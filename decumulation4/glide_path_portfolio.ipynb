{
 "cells": [
  {
   "cell_type": "code",
   "execution_count": 89,
   "metadata": {},
   "outputs": [
    {
     "data": {
      "text/plain": [
       "<module 'src.withdrawal_solver' from '/Users/K/works/git/decumulation4/src/withdrawal_solver.py'>"
      ]
     },
     "execution_count": 89,
     "metadata": {},
     "output_type": "execute_result"
    }
   ],
   "source": [
    "import importlib\n",
    "import matplotlib.pyplot as plt\n",
    "import numpy as np\n",
    "import pandas as pd\n",
    "\n",
    "from src import glide_path_portfolio\n",
    "importlib.reload(glide_path_portfolio)\n",
    "from src import withdrawal_solver\n",
    "importlib.reload(withdrawal_solver)"
   ]
  },
  {
   "cell_type": "code",
   "execution_count": 90,
   "metadata": {},
   "outputs": [],
   "source": [
    "# 各資産の年率期待リターン\n",
    "mu_assets = {\n",
    "    \"asset0\": 1.43*1e-02,\n",
    "    \"asset1\": 5.19*1e-02,\n",
    "    \"asset2\": 3.46*1e-02,\n",
    "    \"asset3\": 0.86*1e-02,\n",
    "    \"asset4\": 5.95*1e-02,\n",
    "    \"asset5\": 2.67*1e-02,\n",
    "    \"asset6\": 5.84*1e-02,\n",
    "    \"asset7\": 7.28*1e-02,\n",
    "    \"asset8\": 0,\n",
    "}\n",
    "# 各資産の年率期待リスク\n",
    "sig_assets = {\n",
    "    \"asset0\": np.sqrt(2.36*1e-02),\n",
    "    \"asset1\": np.sqrt(14.60*1e-02),\n",
    "    \"asset2\": np.sqrt(7.48*1e-02),\n",
    "    \"asset3\": np.sqrt(4.75*1e-02),\n",
    "    \"asset4\": np.sqrt(17.13*1e-02),\n",
    "    \"asset5\": np.sqrt(14.45*1e-02),\n",
    "    \"asset6\": np.sqrt(14.46*1e-02),\n",
    "    \"asset7\": np.sqrt(18.99*1e-02),\n",
    "    \"asset8\": 0,\n",
    "}\n",
    "\n",
    "Sig = np.array([\n",
    "    [0.056*1e-02, -0.034*1e-02, 0.012*1e-02, 0.056*1e-02, 0.002*1e-02, 0.053*1e-02, 0.065*1e-02, 0.073*1e-02, 0.000*1e-02],\n",
    "    [-0.034*1e-02, 2.130*1e-02, 0.520*1e-02, -0.100*1e-02, 1.939*1e-02, 1.332*1e-02, 0.970*1e-02, 1.584*1e-02, 0.000*1e-02],\n",
    "    [0.012*1e-02, 0.520*1e-02, 0.560*1e-02, -0.014*1e-02, 0.786*1e-02, 0.223*1e-02, 0.207*1e-02, 0.674*1e-02, 0.000*1e-02],\n",
    "    [0.056*1e-02, -0.100*1e-02, -0.014*1e-02, 0.226*1e-02, -0.132*1e-02, 0.166*1e-02, 0.012*1e-02, 0.086*1e-02, 0.000*1e-02],\n",
    "    [0.002*1e-02, 1.939*1e-02, 0.786*1e-02, -0.132*1e-02, 2.935*1e-02, 1.919*1e-02, 1.104*1e-02, 2.576*1e-02, 0.000*1e-02],\n",
    "    [0.053*1e-02, 1.332*1e-02, 0.223*1e-02, 0.166*1e-02, 1.919*1e-02, 2.087*1e-02, 0.909*1e-02, 2.002*1e-02, 0.000*1e-02],\n",
    "    [0.065*1e-02, 0.970*1e-02, 0.207*1e-02, 0.012*1e-02, 1.104*1e-02, 0.909*1e-02, 2.090*1e-02, 1.389*1e-02, 0.000*1e-02],\n",
    "    [0.073*1e-02, 1.584*1e-02, 0.674*1e-02, 0.086*1e-02, 2.576*1e-02, 2.002*1e-02, 1.389*1e-02, 3.606*1e-02, 0.000*1e-02],\n",
    "    [0.000*1e-02, 0.000*1e-02, 0.000*1e-02, 0.000*1e-02, 0.000*1e-02, 0.000*1e-02, 0.000*1e-02, 0.000*1e-02, 0.000*1e-02],\n",
    "])"
   ]
  },
  {
   "cell_type": "code",
   "execution_count": 91,
   "metadata": {},
   "outputs": [],
   "source": [
    "# 各リスク許容度RTごとのポートフォリオのボラティリティと期待リターンとアロケーション\n",
    "weights = pd.DataFrame()\n",
    "weights[\"RT\"] = np.arange(0, 10, 1)\n",
    "weights[\"Vol\"] = [0, 0.0243, 0.0326, 0.0431, 0.0586, 0.0735, 0.0891, 0.1076, 0.1199, 0.1291]\n",
    "weights[\"E[r]\"] = [0.0001, 0.0165, 0.0214, 0.0274, 0.0335, 0.039, 0.0439, 0.0491, 0.053, 0.0556]\n",
    "weights[\"asset0\"] = [0, 0.2, 0.26, 0.3, 0.23, 0.18, 0.13, 0.07, 0.03, 0]\n",
    "weights[\"asset1\"] = [0, 0.06, 0.09, 0.1, 0.13, 0.16, 0.18, 0.21, 0.23, 0.24]\n",
    "weights[\"asset2\"] = [0, 0.14, 0.18, 0.23, 0.22, 0.2, 0.19, 0.16, 0.15, 0.11]\n",
    "weights[\"asset3\"] = [0, 0.16, 0.2, 0.24, 0.19, 0.14, 0.09, 0.04, 0, 0]\n",
    "weights[\"asset4\"] = [0, 0.02, 0.02, 0.03, 0.08, 0.12, 0.17, 0.22, 0.25, 0.29]\n",
    "weights[\"asset5\"] = [0, 0, 0, 0, 0, 0, 0.01, 0.04, 0.05, 0.05]\n",
    "weights[\"asset6\"] = [0, 0.04, 0.06, 0.08, 0.1, 0.12, 0.12, 0.12, 0.13, 0.13]\n",
    "weights[\"asset7\"] = [0, 0, 0, 0.02, 0.05, 0.08, 0.11, 0.14, 0.16, 0.18]\n",
    "weights[\"asset8\"] = [1, 0.38, 0.19, 0, 0, 0, 0, 0, 0, 0]"
   ]
  },
  {
   "cell_type": "code",
   "execution_count": 92,
   "metadata": {},
   "outputs": [],
   "source": [
    "# ---- Simulation helpers ----\n",
    "def annual_to_period_params(mu_a: float, sig_a: float, periods_per_year: int, model: str = \"gaussian\"):\n",
    "    P = periods_per_year\n",
    "    if model == \"gaussian\":\n",
    "        mu_p = mu_a / P\n",
    "        sig_p = sig_a / np.sqrt(P)\n",
    "        return mu_p, sig_p\n",
    "    elif model == \"gbm\":\n",
    "        mu_log_p = np.log(1.0 + mu_a) / P\n",
    "        sig_log_p = sig_a / np.sqrt(P)\n",
    "        return mu_log_p, sig_log_p\n",
    "    else:\n",
    "        raise ValueError(\"model must be 'gaussian' or 'gbm'\")\n",
    "\n",
    "def simulate_returns(mu_dict, sig_dict, n_periods=120, freq=\"M\", model=\"gaussian\", corr=None, seed=42):\n",
    "    rng = np.random.default_rng(seed)\n",
    "    assets = list(mu_dict.keys())\n",
    "    n = len(assets)\n",
    "    if freq == \"M\":\n",
    "        P = 12\n",
    "    elif freq == \"W\":\n",
    "        P = 52\n",
    "    elif freq == \"D\":\n",
    "        P = 252\n",
    "    else:\n",
    "        raise ValueError(\"freq must be one of 'M', 'W', 'D'\")\n",
    "\n",
    "    if corr is None:\n",
    "        R = np.eye(n)\n",
    "    else:\n",
    "        R = corr.reindex(index=assets, columns=assets).to_numpy()\n",
    "\n",
    "    if model == \"gaussian\":\n",
    "        mu_p = np.array([annual_to_period_params(mu_dict[a], sig_dict[a], P, \"gaussian\")[0] for a in assets])\n",
    "        sig_p = np.array([annual_to_period_params(mu_dict[a], sig_dict[a], P, \"gaussian\")[1] for a in assets])\n",
    "        D = np.diag(sig_p)\n",
    "        cov = D @ R @ D\n",
    "        shocks = rng.multivariate_normal(mean=np.zeros(n), cov=cov, size=n_periods)\n",
    "        rets = shocks + mu_p\n",
    "    else:\n",
    "        mu_log_p = np.array([annual_to_period_params(mu_dict[a], sig_dict[a], P, \"gbm\")[0] for a in assets])\n",
    "        sig_log_p = np.array([annual_to_period_params(mu_dict[a], sig_dict[a], P, \"gbm\")[1] for a in assets])\n",
    "        D = np.diag(sig_log_p)\n",
    "        cov_log = D @ R @ D\n",
    "        eps = rng.multivariate_normal(mean=np.zeros(n), cov=cov_log, size=n_periods)\n",
    "        rets = np.exp(mu_log_p + eps) - 1.0\n",
    "\n",
    "    idx = pd.date_range(start=\"2005-01-31\", periods=n_periods, freq=freq)\n",
    "    df = pd.DataFrame(rets, index=idx, columns=assets)\n",
    "    return df\n",
    "\n",
    "# ---- Run a default simulation (monthly, 10 years = 120 periods) ----\n",
    "df_returns = simulate_returns(mu_assets, sig_assets, n_periods=120, freq=\"M\", model=\"gaussian\", corr=None, seed=123)"
   ]
  },
  {
   "cell_type": "code",
   "execution_count": 93,
   "metadata": {},
   "outputs": [],
   "source": [
    "# ブートストラップ法でリサンプリング\n",
    "def bootstrap(rets, n_steps):\n",
    "    return rets.sample(n_steps, replace=True).values"
   ]
  },
  {
   "cell_type": "code",
   "execution_count": 103,
   "metadata": {},
   "outputs": [],
   "source": [
    "INIT_VAL = 100\n",
    "WITHDRAWAL_RATE = 0.03 / 12 # per month\n",
    "RT = 3\n",
    "N_STEPS = 12 * 35 # month\n",
    "N_PATHS = 10\n",
    "AGE = np.arange(65, 100+1/12, 1/12)\n",
    "\n",
    "rets = bootstrap(df_returns, n_steps=N_STEPS)"
   ]
  },
  {
   "cell_type": "code",
   "execution_count": 104,
   "metadata": {},
   "outputs": [],
   "source": [
    "model = glide_path_portfolio.GlidePathPortfolio(weights)"
   ]
  },
  {
   "cell_type": "code",
   "execution_count": 105,
   "metadata": {},
   "outputs": [],
   "source": [
    "lst_rets = np.array([\n",
    "    bootstrap(df_returns, n_steps=N_STEPS) for _ in range(N_PATHS)\n",
    "])"
   ]
  },
  {
   "cell_type": "code",
   "execution_count": 106,
   "metadata": {},
   "outputs": [
    {
     "name": "stdout",
     "output_type": "stream",
     "text": [
      "年率（初期資産比）: 3.41%, 月額換算: 0.2842027360320642\n"
     ]
    }
   ],
   "source": [
    "rate_ann, monthly_amt2 = withdrawal_solver.solve_annual_rate_of_initial_for_scenario_zero_glide(\n",
    "    GlidePathPortfolioCls=glide_path_portfolio.GlidePathPortfolio,\n",
    "    weights_df=weights,\n",
    "    init_rt=RT,\n",
    "    init_val=INIT_VAL,\n",
    "    contribution=0,\n",
    "    T=N_STEPS,\n",
    "    n_assets=9,\n",
    "    const=True,\n",
    "    pre_scenario=None,\n",
    "    low_rate_ann=0.0,\n",
    "    high_rate_ann=0.20,  # 必要に応じて自動拡張（最大1000%/年まで）\n",
    ")\n",
    "print(f\"年率（初期資産比）: {rate_ann:.2%}, 月額換算: {monthly_amt2}\")\n"
   ]
  },
  {
   "cell_type": "code",
   "execution_count": 112,
   "metadata": {},
   "outputs": [
    {
     "data": {
      "text/plain": [
       "0.002842027360320642"
      ]
     },
     "execution_count": 112,
     "metadata": {},
     "output_type": "execute_result"
    }
   ],
   "source": [
    "WITHDRAWAL_RATE = monthly_amt2/INIT_VAL\n",
    "WITHDRAWAL_RATE"
   ]
  },
  {
   "cell_type": "code",
   "execution_count": 113,
   "metadata": {},
   "outputs": [],
   "source": [
    "def get_scenario(model, paths, init_rt, init_val, contribution, withdrawal, const, n_steps, n_paths):\n",
    "    lst_S = []\n",
    "    for _ in range(n_paths):\n",
    "        rets = paths[_, :]\n",
    "        S, _, _ = model.run(\n",
    "            rets=rets,\n",
    "            init_rt=init_rt,\n",
    "            init_val=init_val,\n",
    "            contribution=contribution,\n",
    "            withdrawal=withdrawal,\n",
    "            const=True\n",
    "        )\n",
    "        lst_S.append(S)\n",
    "    return np.array(lst_S)"
   ]
  },
  {
   "cell_type": "code",
   "execution_count": 114,
   "metadata": {},
   "outputs": [],
   "source": [
    "S, _, _ = model.run(\n",
    "    rets=rets,\n",
    "    init_rt=RT,\n",
    "    init_val=INIT_VAL,\n",
    "    contribution=0,\n",
    "    withdrawal=WITHDRAWAL_RATE*INIT_VAL,\n",
    "    const=True\n",
    ")"
   ]
  },
  {
   "cell_type": "code",
   "execution_count": 115,
   "metadata": {},
   "outputs": [
    {
     "data": {
      "image/png": "[encoded data removed]",
      "text/plain": [
       "<Figure size 640x480 with 1 Axes>"
      ]
     },
     "metadata": {},
     "output_type": "display_data"
    }
   ],
   "source": [
    "plt.plot(S)\n",
    "plt.plot(model.scenario, ls=\"--\")\n",
    "plt.show()"
   ]
  },
  {
   "cell_type": "code",
   "execution_count": 79,
   "metadata": {},
   "outputs": [
    {
     "data": {
      "image/png": "[encoded data removed]",
      "text/plain": [
       "<Figure size 640x480 with 1 Axes>"
      ]
     },
     "metadata": {},
     "output_type": "display_data"
    }
   ],
   "source": [
    "plt.plot(model.record_rt)\n",
    "plt.show()"
   ]
  },
  {
   "cell_type": "code",
   "execution_count": null,
   "metadata": {},
   "outputs": [],
   "source": []
  },
  {
   "cell_type": "code",
   "execution_count": null,
   "metadata": {},
   "outputs": [],
   "source": []
  },
  {
   "cell_type": "code",
   "execution_count": null,
   "metadata": {},
   "outputs": [],
   "source": []
  }
 ],
 "metadata": {
  "kernelspec": {
   "display_name": "base",
   "language": "python",
   "name": "python3"
  },
  "language_info": {
   "codemirror_mode": {
    "name": "ipython",
    "version": 3
   },
   "file_extension": ".py",
   "mimetype": "text/x-python",
   "name": "python",
   "nbconvert_exporter": "python",
   "pygments_lexer": "ipython3",
   "version": "3.9.16"
  },
  "orig_nbformat": 4
 },
 "nbformat": 4,
 "nbformat_minor": 2
}
