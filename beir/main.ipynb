{
 "cells": [
  {
   "cell_type": "code",
   "execution_count": 49,
   "metadata": {},
   "outputs": [],
   "source": [
    "import numpy as np\n",
    "import pandas as pd\n",
    "import pandas_datareader.data as web\n",
    "import matplotlib.pyplot as plt\n",
    "from datetime import datetime\n",
    "from scipy.optimize import minimize"
   ]
  },
  {
   "cell_type": "code",
   "execution_count": 42,
   "metadata": {},
   "outputs": [
    {
     "name": "stderr",
     "output_type": "stream",
     "text": [
      "/var/folders/3n/5qpgng455w713g5kj65vkyq80000gn/T/ipykernel_10564/3007645002.py:32: RuntimeWarning: overflow encountered in exp\n",
      "  t1 = (1 - np.exp(-l1 * m)) / (l1 * m)\n",
      "/var/folders/3n/5qpgng455w713g5kj65vkyq80000gn/T/ipykernel_10564/3007645002.py:33: RuntimeWarning: overflow encountered in exp\n",
      "  t2 = t1 - np.exp(-l1 * m)\n",
      "/var/folders/3n/5qpgng455w713g5kj65vkyq80000gn/T/ipykernel_10564/3007645002.py:33: RuntimeWarning: invalid value encountered in subtract\n",
      "  t2 = t1 - np.exp(-l1 * m)\n",
      "/var/folders/3n/5qpgng455w713g5kj65vkyq80000gn/T/ipykernel_10564/3007645002.py:34: RuntimeWarning: overflow encountered in exp\n",
      "  t3 = (1 - np.exp(-l2 * m)) / (l2 * m) - np.exp(-l2 * m)\n",
      "/var/folders/3n/5qpgng455w713g5kj65vkyq80000gn/T/ipykernel_10564/3007645002.py:34: RuntimeWarning: invalid value encountered in subtract\n",
      "  t3 = (1 - np.exp(-l2 * m)) / (l2 * m) - np.exp(-l2 * m)\n",
      "/var/folders/3n/5qpgng455w713g5kj65vkyq80000gn/T/ipykernel_10564/3007645002.py:45: RuntimeWarning: overflow encountered in square\n",
      "  return np.sum(w * (y_hat - ylds) ** 2)\n"
     ]
    }
   ],
   "source": [
    "FILES = {\n",
    "    \"nominal\":  \"yield-curve-rates-1990-2024.csv\",\n",
    "    \"real\": \"par-real-yield-curve-rates-2003-2024.csv\",\n",
    "}\n",
    "\n",
    "TENOR_MAP = {\n",
    "    \"1 Mo\": 1/12, \"2 Mo\": 2/12, \"3 Mo\": 3/12, \"6 Mo\": 0.5,\n",
    "    \"1 Yr\": 1, \"2 Yr\": 2, \"3 Yr\": 3, \"5 Yr\": 5, \"7 Yr\": 7,\n",
    "    \"10 Yr\": 10, \"20 Yr\": 20, \"30 Yr\": 30,\n",
    "}\n",
    "\n",
    "def read_file(path, kind):\n",
    "    df = pd.read_csv(path)\n",
    "    df = df.rename(columns={\"Date\": \"date\"})\n",
    "    df[\"date\"] = pd.to_datetime(df[\"date\"])\n",
    "    cols = [c for c in df.columns if c in TENOR_MAP]\n",
    "    df = df.melt(id_vars=\"date\", value_vars=cols, var_name=\"tenor\", value_name=\"yield\")\n",
    "    df[\"maturity\"] = df[\"tenor\"].map(TENOR_MAP)\n",
    "    df[\"kind\"] = kind\n",
    "    df = df.dropna(subset=[\"yield\"])\n",
    "    df[\"yield\"] = df[\"yield\"].astype(float) / 100\n",
    "    return df\n",
    "\n",
    "df_nominal = read_file(DATA_DIR / FILES[\"nominal\"],  \"nominal\")\n",
    "df_real = read_file(DATA_DIR / FILES[\"real\"],  \"real\")\n",
    "\n",
    "start_date = np.maximum(df_nominal.date.min(), df_real.date.min())\n",
    "end_date = np.minimum(df_nominal.date.max(), df_real.date.max())\n",
    "\n",
    "def svensson_model(m, p):\n",
    "    beta0, beta1, beta2, beta3, l1, l2 = p\n",
    "    t1 = (1 - np.exp(-l1 * m)) / (l1 * m)\n",
    "    t2 = t1 - np.exp(-l1 * m)\n",
    "    t3 = (1 - np.exp(-l2 * m)) / (l2 * m) - np.exp(-l2 * m) \n",
    "    return beta0 + beta1 * t1 + beta2 * t2 + beta3 * t3\n",
    "\n",
    "def fit_curve(current_data):\n",
    "    mats = current_data[\"maturity\"].values\n",
    "    ylds = current_data[\"yield\"].values\n",
    "    def loss(p):\n",
    "        y_hat = svensson_model(mats, p)\n",
    "        w = 1 / np.square(mats)\n",
    "    p0 = np.array([0.02, -0.03, 0.03, 0.0, 0.5, 2.0])\n",
    "    res = minimize(loss, p0, method=\"Nelder-Mead\", options={\"maxiter\": 8000}) \n",
    "    return res.x\n",
    "\n",
    "def run(date, nominal, real):\n",
    "    current_nominal = nominal[nominal.date == date] \n",
    "    current_real = real[real.date == date]\n",
    "    if current_nominal.empty or current_real.empty:\n",
    "        return None\n",
    "    \n",
    "    para_nominal = fit_curve(current_nominal)\n",
    "    para_real = fit_curve(current_real)\n",
    "\n",
    "    vna_t = 1.0\n",
    "    vna_star = 1.0\n",
    "    beir = {}\n",
    "    for T in COMMON_MATS:\n",
    "        r_nominal = svensson_spot(T, para_nominal)\n",
    "        r_real = svensson_spot(T, para_real)\n",
    "        price_syn = vna_t / (1 + r_real)\n",
    "        beir[T] = price_syn * (1 + r_nominal) / vna_star - 1\n",
    "\n",
    "    return pd.Series(beir, name=date)\n",
    "\n",
    "beir_daily = []\n",
    "for d in pd.date_range(start_date, end_date, freq=\"B\"):\n",
    "    s = daily_beir(d, df_nominal, df_real) \n",
    "    if s is not None:\n",
    "        beir_daily.append(s)\n",
    "beir_daily = pd.DataFrame(beir_daily)"
   ]
  },
  {
   "cell_type": "code",
   "execution_count": 43,
   "metadata": {},
   "outputs": [
    {
     "data": {
      "text/html": [
       "<div>\n",
       "<style scoped>\n",
       "    .dataframe tbody tr th:only-of-type {\n",
       "        vertical-align: middle;\n",
       "    }\n",
       "\n",
       "    .dataframe tbody tr th {\n",
       "        vertical-align: top;\n",
       "    }\n",
       "\n",
       "    .dataframe thead th {\n",
       "        text-align: right;\n",
       "    }\n",
       "</style>\n",
       "<table border=\"1\" class=\"dataframe\">\n",
       "  <thead>\n",
       "    <tr style=\"text-align: right;\">\n",
       "      <th></th>\n",
       "      <th>5</th>\n",
       "      <th>10</th>\n",
       "      <th>20</th>\n",
       "    </tr>\n",
       "  </thead>\n",
       "  <tbody>\n",
       "    <tr>\n",
       "      <th>2003-01-02</th>\n",
       "      <td>0.010310</td>\n",
       "      <td>0.009739</td>\n",
       "      <td>0.030691</td>\n",
       "    </tr>\n",
       "    <tr>\n",
       "      <th>2003-01-03</th>\n",
       "      <td>0.012840</td>\n",
       "      <td>0.014884</td>\n",
       "      <td>0.020399</td>\n",
       "    </tr>\n",
       "    <tr>\n",
       "      <th>2003-01-06</th>\n",
       "      <td>0.012227</td>\n",
       "      <td>0.017015</td>\n",
       "      <td>0.024019</td>\n",
       "    </tr>\n",
       "    <tr>\n",
       "      <th>2003-01-07</th>\n",
       "      <td>0.011998</td>\n",
       "      <td>0.016924</td>\n",
       "      <td>0.027812</td>\n",
       "    </tr>\n",
       "    <tr>\n",
       "      <th>2003-01-08</th>\n",
       "      <td>0.011299</td>\n",
       "      <td>0.018057</td>\n",
       "      <td>0.040678</td>\n",
       "    </tr>\n",
       "    <tr>\n",
       "      <th>...</th>\n",
       "      <td>...</td>\n",
       "      <td>...</td>\n",
       "      <td>...</td>\n",
       "    </tr>\n",
       "    <tr>\n",
       "      <th>2024-12-24</th>\n",
       "      <td>0.021939</td>\n",
       "      <td>0.018761</td>\n",
       "      <td>0.018068</td>\n",
       "    </tr>\n",
       "    <tr>\n",
       "      <th>2024-12-26</th>\n",
       "      <td>0.023823</td>\n",
       "      <td>0.023431</td>\n",
       "      <td>0.022986</td>\n",
       "    </tr>\n",
       "    <tr>\n",
       "      <th>2024-12-27</th>\n",
       "      <td>0.023540</td>\n",
       "      <td>0.023387</td>\n",
       "      <td>0.024180</td>\n",
       "    </tr>\n",
       "    <tr>\n",
       "      <th>2024-12-30</th>\n",
       "      <td>0.022766</td>\n",
       "      <td>0.023054</td>\n",
       "      <td>0.024665</td>\n",
       "    </tr>\n",
       "    <tr>\n",
       "      <th>2024-12-31</th>\n",
       "      <td>0.022656</td>\n",
       "      <td>0.021773</td>\n",
       "      <td>0.021175</td>\n",
       "    </tr>\n",
       "  </tbody>\n",
       "</table>\n",
       "<p>5504 rows × 3 columns</p>\n",
       "</div>"
      ],
      "text/plain": [
       "                  5         10        20\n",
       "2003-01-02  0.010310  0.009739  0.030691\n",
       "2003-01-03  0.012840  0.014884  0.020399\n",
       "2003-01-06  0.012227  0.017015  0.024019\n",
       "2003-01-07  0.011998  0.016924  0.027812\n",
       "2003-01-08  0.011299  0.018057  0.040678\n",
       "...              ...       ...       ...\n",
       "2024-12-24  0.021939  0.018761  0.018068\n",
       "2024-12-26  0.023823  0.023431  0.022986\n",
       "2024-12-27  0.023540  0.023387  0.024180\n",
       "2024-12-30  0.022766  0.023054  0.024665\n",
       "2024-12-31  0.022656  0.021773  0.021175\n",
       "\n",
       "[5504 rows x 3 columns]"
      ]
     },
     "execution_count": 43,
     "metadata": {},
     "output_type": "execute_result"
    }
   ],
   "source": [
    "beir_daily"
   ]
  },
  {
   "cell_type": "code",
   "execution_count": 54,
   "metadata": {},
   "outputs": [],
   "source": [
    "cpi = web.DataReader(\"CPIAUCNS\", \"fred\", beir_daily.index[0], beir_daily.index[-1])\n",
    "cpi[\"YoY\"] = cpi[\"CPIAUCNS\"].pct_change(periods=12)"
   ]
  },
  {
   "cell_type": "code",
   "execution_count": 62,
   "metadata": {},
   "outputs": [
    {
     "data": {
      "image/png": "[encoded data removed]",
      "text/plain": [
       "<Figure size 700x300 with 1 Axes>"
      ]
     },
     "metadata": {},
     "output_type": "display_data"
    }
   ],
   "source": [
    "fig, ax = plt.subplots(1, 1, figsize=(7, 3), tight_layout=True)\n",
    "ax.plot(cpi[\"YoY\"], color=\"black\", label=\"CPI YoY\")\n",
    "ax.plot(beir_daily.iloc[:,0], color=\"#4597A0\", alpha=0.7, label=\"BEIR\")\n",
    "ax.legend()\n",
    "ax.grid()\n",
    "plt.show()"
   ]
  },
  {
   "cell_type": "markdown",
   "metadata": {},
   "source": [
    "## Implied Inflation"
   ]
  },
  {
   "cell_type": "markdown",
   "metadata": {},
   "source": [
    "For a zero-coupon fixed-income security, that\n",
    "$$P_{t,T}=\\frac{VNA_{T}}{(1+R_{t,T})},$$\n",
    "where $P_{t,T}$ is the price of the security at date $t$ with maturity at $T$, $VNA_T$ is the updated nominal value on the maturity date $T$ and $R_{t,T}$ is the nominal rate from $t$ to $T$.\n",
    "We again use a zero-coupon NTN-B. Let $VNA_{t^*}$ be the last known VNA. The $VNA_T$ can be described as the last known VNA adjusted by inflation to maturity, with a lag of 15 calendar days. Thus:\n",
    "$$P_{t,T}=\\frac{VNA_{t^*}(1+II_{t^*-15,T-15})}{(1+R_{t,T})},$$\n",
    "$$II_{t^*-15,T-15}=\\frac{P_{t,T}(1+R_{t,T})}{VNA_{t^*}}-1$$ \n",
    "in which $II_{t*−15,T-15}$ is the implied inflation embedded in the bond with a 15-calendar-day lag between $t*$ and the maturity $T$."
   ]
  },
  {
   "cell_type": "markdown",
   "metadata": {},
   "source": [
    "### 名目カーブ\n",
    "- 名目ゼロスポット金利$R_{t,T}$(日次連続 カーブ).\n",
    "### 実質カーブ\n",
    "- 実質利回り$r_{t,T}^{CPI}$(日次連続 カーブ).\n",
    "### 合成ゼロ価格\n",
    "- ゼロクーポン化したインフレ連動債価格$P_{t,T}$.\n",
    "$$P_{t,T}=\\frac{VNA_{t}}{1+r_{t,T}^{CPI}}$$"
   ]
  },
  {
   "cell_type": "markdown",
   "metadata": {},
   "source": []
  }
 ],
 "metadata": {
  "kernelspec": {
   "display_name": "base",
   "language": "python",
   "name": "python3"
  },
  "language_info": {
   "codemirror_mode": {
    "name": "ipython",
    "version": 3
   },
   "file_extension": ".py",
   "mimetype": "text/x-python",
   "name": "python",
   "nbconvert_exporter": "python",
   "pygments_lexer": "ipython3",
   "version": "3.9.16"
  },
  "orig_nbformat": 4
 },
 "nbformat": 4,
 "nbformat_minor": 2
}
