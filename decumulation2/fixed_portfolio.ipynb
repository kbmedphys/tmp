{
 "cells": [
  {
   "cell_type": "code",
   "execution_count": 1,
   "metadata": {},
   "outputs": [
    {
     "data": {
      "text/plain": [
       "<module 'src.fixed_portfolio' from '/Users/K/works/git/decumulation2/src/fixed_portfolio.py'>"
      ]
     },
     "execution_count": 1,
     "metadata": {},
     "output_type": "execute_result"
    }
   ],
   "source": [
    "import importlib\n",
    "import matplotlib.pyplot as plt\n",
    "import numpy as np\n",
    "import pandas as pd\n",
    "\n",
    "from src import fixed_portfolio\n",
    "importlib.reload(fixed_portfolio)"
   ]
  },
  {
   "cell_type": "code",
   "execution_count": 2,
   "metadata": {},
   "outputs": [],
   "source": [
    "# 各資産の年率期待リターン\n",
    "mu_assets = {\n",
    "    \"asset0\": 1.43*1e-02,\n",
    "    \"asset1\": 5.19*1e-02,\n",
    "    \"asset2\": 3.46*1e-02,\n",
    "    \"asset3\": 0.86*1e-02,\n",
    "    \"asset4\": 5.95*1e-02,\n",
    "    \"asset5\": 2.67*1e-02,\n",
    "    \"asset6\": 5.84*1e-02,\n",
    "    \"asset7\": 7.28*1e-02,\n",
    "    \"asset8\": 0,\n",
    "}\n",
    "# 各資産の年率期待リスク\n",
    "sig_assets = {\n",
    "    \"asset0\": np.sqrt(2.36*1e-02),\n",
    "    \"asset1\": np.sqrt(14.60*1e-02),\n",
    "    \"asset2\": np.sqrt(7.48*1e-02),\n",
    "    \"asset3\": np.sqrt(4.75*1e-02),\n",
    "    \"asset4\": np.sqrt(17.13*1e-02),\n",
    "    \"asset5\": np.sqrt(14.45*1e-02),\n",
    "    \"asset6\": np.sqrt(14.46*1e-02),\n",
    "    \"asset7\": np.sqrt(18.99*1e-02),\n",
    "    \"asset8\": 0,\n",
    "}"
   ]
  },
  {
   "cell_type": "code",
   "execution_count": 3,
   "metadata": {},
   "outputs": [],
   "source": [
    "# 各リスク許容度RTごとのポートフォリオのボラティリティと期待リターンとアロケーション\n",
    "weights = pd.DataFrame()\n",
    "weights[\"RT\"] = np.arange(0, 10, 1)\n",
    "weights[\"Vol\"] = [0, 0.0243, 0.0326, 0.0431, 0.0586, 0.0735, 0.0891, 0.1076, 0.1199, 0.1291]\n",
    "weights[\"E[r]\"] = [0.0001, 0.0165, 0.0214, 0.0274, 0.0335, 0.039, 0.0439, 0.0491, 0.053, 0.0556]\n",
    "weights[\"asset0\"] = [0, 0.2, 0.26, 0.3, 0.23, 0.18, 0.13, 0.07, 0.03, 0]\n",
    "weights[\"asset1\"] = [0, 0.06, 0.09, 0.1, 0.13, 0.16, 0.18, 0.21, 0.23, 0.24]\n",
    "weights[\"asset2\"] = [0, 0.14, 0.18, 0.23, 0.22, 0.2, 0.19, 0.16, 0.15, 0.11]\n",
    "weights[\"asset3\"] = [0, 0.16, 0.2, 0.24, 0.19, 0.14, 0.09, 0.04, 0, 0]\n",
    "weights[\"asset4\"] = [0, 0.02, 0.02, 0.03, 0.08, 0.12, 0.17, 0.22, 0.25, 0.29]\n",
    "weights[\"asset5\"] = [0, 0, 0, 0, 0, 0, 0.01, 0.04, 0.05, 0.05]\n",
    "weights[\"asset6\"] = [0, 0.04, 0.06, 0.08, 0.1, 0.12, 0.12, 0.12, 0.13, 0.13]\n",
    "weights[\"asset7\"] = [0, 0, 0, 0.02, 0.05, 0.08, 0.11, 0.14, 0.16, 0.18]\n",
    "weights[\"asset8\"] = [1, 0.38, 0.19, 0, 0, 0, 0, 0, 0, 0]"
   ]
  },
  {
   "cell_type": "code",
   "execution_count": 4,
   "metadata": {},
   "outputs": [],
   "source": [
    "# ---- Simulation helpers ----\n",
    "def annual_to_period_params(mu_a: float, sig_a: float, periods_per_year: int, model: str = \"gaussian\"):\n",
    "    P = periods_per_year\n",
    "    if model == \"gaussian\":\n",
    "        mu_p = mu_a / P\n",
    "        sig_p = sig_a / np.sqrt(P)\n",
    "        return mu_p, sig_p\n",
    "    elif model == \"gbm\":\n",
    "        mu_log_p = np.log(1.0 + mu_a) / P\n",
    "        sig_log_p = sig_a / np.sqrt(P)\n",
    "        return mu_log_p, sig_log_p\n",
    "    else:\n",
    "        raise ValueError(\"model must be 'gaussian' or 'gbm'\")\n",
    "\n",
    "def simulate_returns(mu_dict, sig_dict, n_periods=120, freq=\"M\", model=\"gaussian\", corr=None, seed=42):\n",
    "    rng = np.random.default_rng(seed)\n",
    "    assets = list(mu_dict.keys())\n",
    "    n = len(assets)\n",
    "    if freq == \"M\":\n",
    "        P = 12\n",
    "    elif freq == \"W\":\n",
    "        P = 52\n",
    "    elif freq == \"D\":\n",
    "        P = 252\n",
    "    else:\n",
    "        raise ValueError(\"freq must be one of 'M', 'W', 'D'\")\n",
    "\n",
    "    if corr is None:\n",
    "        R = np.eye(n)\n",
    "    else:\n",
    "        R = corr.reindex(index=assets, columns=assets).to_numpy()\n",
    "\n",
    "    if model == \"gaussian\":\n",
    "        mu_p = np.array([annual_to_period_params(mu_dict[a], sig_dict[a], P, \"gaussian\")[0] for a in assets])\n",
    "        sig_p = np.array([annual_to_period_params(mu_dict[a], sig_dict[a], P, \"gaussian\")[1] for a in assets])\n",
    "        D = np.diag(sig_p)\n",
    "        cov = D @ R @ D\n",
    "        shocks = rng.multivariate_normal(mean=np.zeros(n), cov=cov, size=n_periods)\n",
    "        rets = shocks + mu_p\n",
    "    else:\n",
    "        mu_log_p = np.array([annual_to_period_params(mu_dict[a], sig_dict[a], P, \"gbm\")[0] for a in assets])\n",
    "        sig_log_p = np.array([annual_to_period_params(mu_dict[a], sig_dict[a], P, \"gbm\")[1] for a in assets])\n",
    "        D = np.diag(sig_log_p)\n",
    "        cov_log = D @ R @ D\n",
    "        eps = rng.multivariate_normal(mean=np.zeros(n), cov=cov_log, size=n_periods)\n",
    "        rets = np.exp(mu_log_p + eps) - 1.0\n",
    "\n",
    "    idx = pd.date_range(start=\"2005-01-31\", periods=n_periods, freq=freq)\n",
    "    df = pd.DataFrame(rets, index=idx, columns=assets)\n",
    "    return df\n",
    "\n",
    "# ---- Run a default simulation (monthly, 10 years = 120 periods) ----\n",
    "df_returns = simulate_returns(mu_assets, sig_assets, n_periods=120, freq=\"M\", model=\"gaussian\", corr=None, seed=123)"
   ]
  },
  {
   "cell_type": "code",
   "execution_count": 5,
   "metadata": {},
   "outputs": [],
   "source": [
    "# ブートストラップ法でリサンプリング\n",
    "def bootstrap(rets, n_steps):\n",
    "    return rets.sample(n_steps, replace=True).values"
   ]
  },
  {
   "cell_type": "code",
   "execution_count": 6,
   "metadata": {},
   "outputs": [],
   "source": [
    "INIT_VAL = 100\n",
    "WITHDRAWAL_RATE = 0.03 / 12 # per month\n",
    "RT = 1\n",
    "N_STEPS = 12 * 35 # month\n",
    "N_PATHS = 10\n",
    "AGE = np.arange(65, 100+1/12, 1/12)\n",
    "\n",
    "rets = bootstrap(df_returns, n_steps=N_STEPS)"
   ]
  },
  {
   "cell_type": "code",
   "execution_count": 7,
   "metadata": {},
   "outputs": [],
   "source": [
    "model = fixed_portfolio.FixedPortfolio(weights)"
   ]
  },
  {
   "cell_type": "code",
   "execution_count": 8,
   "metadata": {},
   "outputs": [],
   "source": [
    "S, _, _ = model.run(\n",
    "    rets=rets,\n",
    "    init_rt=RT,\n",
    "    init_val=INIT_VAL,\n",
    "    contribution=0,\n",
    "    withdrawal=0,\n",
    "    const=True\n",
    ")"
   ]
  },
  {
   "cell_type": "code",
   "execution_count": 10,
   "metadata": {},
   "outputs": [
    {
     "data": {
      "image/png": "[encoded data removed]",
      "text/plain": [
       "<Figure size 640x480 with 1 Axes>"
      ]
     },
     "metadata": {},
     "output_type": "display_data"
    }
   ],
   "source": [
    "plt.plot(S)\n",
    "plt.plot(model.scenario)\n",
    "plt.show()"
   ]
  },
  {
   "cell_type": "code",
   "execution_count": 18,
   "metadata": {},
   "outputs": [],
   "source": [
    "W_LOSS = 30.0\n",
    "W_TARGET = W_LOSS + 10.0   # success requires finishing ≥ 40\n",
    "\n",
    "S_fix_all = np.zeros((N_PATHS, N_STEPS+1))\n",
    "succ_fix = np.zeros(N_STEPS, dtype=bool)\n",
    "surv_fix = np.zeros(N_STEPS, dtype=bool)\n",
    "\n",
    "S_fix_scaling_all = np.zeros((N_PATHS, N_STEPS+1))\n",
    "succ_fix_scaling = np.zeros(N_STEPS, dtype=bool)\n",
    "surv_fix_scaling = np.zeros(N_STEPS, dtype=bool)\n",
    "\n",
    "for b in range(N_PATHS):\n",
    "    rets = bootstrap(df_returns, n_steps=N_STEPS)\n",
    "\n",
    "    S_fix, _, _ = model.run(\n",
    "        rets=rets,\n",
    "        init_rt=RT,\n",
    "        init_val=INIT_VAL,\n",
    "        contribution=0.0,\n",
    "        withdrawal=0.0,\n",
    "        const=True\n",
    "    )\n",
    "    S_fix_all[b] = S_fix\n",
    "    succ_fix[b] = (S_fix[-1] >= W_TARGET)\n",
    "    surv_fix[b] = np.all(S_fix >= W_LOSS)\n",
    "\n",
    "    S_fix_scaling, _, _ = model.run(\n",
    "        rets=rets,\n",
    "        init_rt=RT,\n",
    "        init_val=INIT_VAL,\n",
    "        contribution=0.0,\n",
    "        withdrawal=0.0,\n",
    "        const=False\n",
    "    )\n",
    "    S_fix_scaling_all[b] = S_fix_scaling\n",
    "    succ_fix_scaling[b] = (S_fix_scaling[-1] >= W_TARGET)\n",
    "    surv_fix_scaling[b] = np.all(S_fix_scaling >= W_LOSS)\n",
    "    \n"
   ]
  },
  {
   "cell_type": "code",
   "execution_count": 19,
   "metadata": {},
   "outputs": [
    {
     "data": {
      "text/html": [
       "<div>\n",
       "<style scoped>\n",
       "    .dataframe tbody tr th:only-of-type {\n",
       "        vertical-align: middle;\n",
       "    }\n",
       "\n",
       "    .dataframe tbody tr th {\n",
       "        vertical-align: top;\n",
       "    }\n",
       "\n",
       "    .dataframe thead th {\n",
       "        text-align: right;\n",
       "    }\n",
       "</style>\n",
       "<table border=\"1\" class=\"dataframe\">\n",
       "  <thead>\n",
       "    <tr style=\"text-align: right;\">\n",
       "      <th></th>\n",
       "      <th>metric</th>\n",
       "      <th>Fixed_RT</th>\n",
       "      <th>Fixed_Scaling_RT</th>\n",
       "    </tr>\n",
       "  </thead>\n",
       "  <tbody>\n",
       "    <tr>\n",
       "      <th>0</th>\n",
       "      <td>success_prob (W_T&gt;=40)</td>\n",
       "      <td>0.002381</td>\n",
       "      <td>0.00000</td>\n",
       "    </tr>\n",
       "    <tr>\n",
       "      <th>1</th>\n",
       "      <td>survival_prob (min W_t&gt;=30)</td>\n",
       "      <td>0.004762</td>\n",
       "      <td>0.00000</td>\n",
       "    </tr>\n",
       "    <tr>\n",
       "      <th>2</th>\n",
       "      <td>E[W_T]</td>\n",
       "      <td>17.658396</td>\n",
       "      <td>0.32412</td>\n",
       "    </tr>\n",
       "  </tbody>\n",
       "</table>\n",
       "</div>"
      ],
      "text/plain": [
       "                        metric   Fixed_RT  Fixed_Scaling_RT\n",
       "0       success_prob (W_T>=40)   0.002381           0.00000\n",
       "1  survival_prob (min W_t>=30)   0.004762           0.00000\n",
       "2                       E[W_T]  17.658396           0.32412"
      ]
     },
     "execution_count": 19,
     "metadata": {},
     "output_type": "execute_result"
    }
   ],
   "source": [
    "summary = pd.DataFrame({\n",
    "    \"metric\": [\"success_prob (W_T>=40)\", \"survival_prob (min W_t>=30)\", \"E[W_T]\"],\n",
    "    \"Fixed_RT\": [float(np.mean(succ_fix)), float(np.mean(surv_fix)), float(np.mean(S_fix_all[:, -1]))],\n",
    "    \"Fixed_Scaling_RT\": [float(np.mean(succ_fix_scaling)), float(np.mean(surv_fix_scaling)), float(np.mean(S_fix_scaling_all[:, -1]))],\n",
    "})\n",
    "summary"
   ]
  },
  {
   "cell_type": "code",
   "execution_count": 21,
   "metadata": {},
   "outputs": [
    {
     "data": {
      "text/html": [
       "<div>\n",
       "<style scoped>\n",
       "    .dataframe tbody tr th:only-of-type {\n",
       "        vertical-align: middle;\n",
       "    }\n",
       "\n",
       "    .dataframe tbody tr th {\n",
       "        vertical-align: top;\n",
       "    }\n",
       "\n",
       "    .dataframe thead th {\n",
       "        text-align: right;\n",
       "    }\n",
       "</style>\n",
       "<table border=\"1\" class=\"dataframe\">\n",
       "  <thead>\n",
       "    <tr style=\"text-align: right;\">\n",
       "      <th></th>\n",
       "      <th>model</th>\n",
       "      <th>mean</th>\n",
       "      <th>p05</th>\n",
       "      <th>p25</th>\n",
       "      <th>p50</th>\n",
       "      <th>p75</th>\n",
       "      <th>p95</th>\n",
       "      <th>min</th>\n",
       "      <th>max</th>\n",
       "    </tr>\n",
       "  </thead>\n",
       "  <tbody>\n",
       "    <tr>\n",
       "      <th>0</th>\n",
       "      <td>Fixed_RT</td>\n",
       "      <td>17.658396</td>\n",
       "      <td>0.000000</td>\n",
       "      <td>0.000000</td>\n",
       "      <td>0.560453</td>\n",
       "      <td>21.542065</td>\n",
       "      <td>76.431236</td>\n",
       "      <td>0.000000</td>\n",
       "      <td>113.174502</td>\n",
       "    </tr>\n",
       "    <tr>\n",
       "      <th>1</th>\n",
       "      <td>Fixed_Scaling_RT</td>\n",
       "      <td>0.324120</td>\n",
       "      <td>0.185407</td>\n",
       "      <td>0.235022</td>\n",
       "      <td>0.276187</td>\n",
       "      <td>0.338519</td>\n",
       "      <td>0.613762</td>\n",
       "      <td>0.173459</td>\n",
       "      <td>0.827463</td>\n",
       "    </tr>\n",
       "  </tbody>\n",
       "</table>\n",
       "</div>"
      ],
      "text/plain": [
       "              model       mean       p05       p25       p50        p75  \\\n",
       "0          Fixed_RT  17.658396  0.000000  0.000000  0.560453  21.542065   \n",
       "1  Fixed_Scaling_RT   0.324120  0.185407  0.235022  0.276187   0.338519   \n",
       "\n",
       "         p95       min         max  \n",
       "0  76.431236  0.000000  113.174502  \n",
       "1   0.613762  0.173459    0.827463  "
      ]
     },
     "execution_count": 21,
     "metadata": {},
     "output_type": "execute_result"
    }
   ],
   "source": [
    "def summarize(vals):\n",
    "    return {\n",
    "        \"mean\": float(np.mean(vals)),\n",
    "        \"p05\": float(np.percentile(vals, 5)),\n",
    "        \"p25\": float(np.percentile(vals, 25)),\n",
    "        \"p50\": float(np.percentile(vals, 50)),\n",
    "        \"p75\": float(np.percentile(vals, 75)),\n",
    "        \"p95\": float(np.percentile(vals, 95)),\n",
    "        \"min\": float(np.min(vals)),\n",
    "        \"max\": float(np.max(vals)),\n",
    "    }\n",
    "\n",
    "tw_fix = summarize(S_fix_all[:, -1])\n",
    "tw_fix_scaling = summarize(S_fix_scaling_all[:, -1])\n",
    "tw_df = pd.DataFrame([\n",
    "    {\"model\":\"Fixed_RT\", **tw_fix}, \n",
    "    {\"model\":\"Fixed_Scaling_RT\", **tw_fix_scaling}\n",
    "])\n",
    "tw_df\n"
   ]
  },
  {
   "cell_type": "code",
   "execution_count": null,
   "metadata": {},
   "outputs": [],
   "source": []
  }
 ],
 "metadata": {
  "kernelspec": {
   "display_name": "base",
   "language": "python",
   "name": "python3"
  },
  "language_info": {
   "codemirror_mode": {
    "name": "ipython",
    "version": 3
   },
   "file_extension": ".py",
   "mimetype": "text/x-python",
   "name": "python",
   "nbconvert_exporter": "python",
   "pygments_lexer": "ipython3",
   "version": "3.9.16"
  },
  "orig_nbformat": 4
 },
 "nbformat": 4,
 "nbformat_minor": 2
}
