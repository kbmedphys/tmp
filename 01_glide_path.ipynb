{
 "cells": [
  {
   "cell_type": "code",
   "execution_count": 2,
   "metadata": {},
   "outputs": [
    {
     "data": {
      "text/plain": [
       "<module 'misc' from '/Users/K/works/git/decumulation/misc.py'>"
      ]
     },
     "execution_count": 2,
     "metadata": {},
     "output_type": "execute_result"
    }
   ],
   "source": [
    "import importlib\n",
    "import matplotlib.pyplot as plt\n",
    "import numpy as np\n",
    "import pandas as pd\n",
    "\n",
    "import misc\n",
    "importlib.reload(misc)"
   ]
  },
  {
   "cell_type": "code",
   "execution_count": 3,
   "metadata": {},
   "outputs": [],
   "source": [
    "# 各資産の年率期待リターン\n",
    "mu_assets = {\n",
    "    \"asset0\": 1.43*1e-02,\n",
    "    \"asset1\": 5.19*1e-02,\n",
    "    \"asset2\": 3.46*1e-02,\n",
    "    \"asset3\": 0.86*1e-02,\n",
    "    \"asset4\": 5.95*1e-02,\n",
    "    \"asset5\": 2.67*1e-02,\n",
    "    \"asset6\": 5.84*1e-02,\n",
    "    \"asset7\": 7.28*1e-02,\n",
    "    \"asset8\": 0,\n",
    "}\n",
    "# 各資産の年率期待リスク\n",
    "sig_assets = {\n",
    "    \"asset0\": np.sqrt(2.36*1e-02),\n",
    "    \"asset1\": np.sqrt(14.60*1e-02),\n",
    "    \"asset2\": np.sqrt(7.48*1e-02),\n",
    "    \"asset3\": np.sqrt(4.75*1e-02),\n",
    "    \"asset4\": np.sqrt(17.13*1e-02),\n",
    "    \"asset5\": np.sqrt(14.45*1e-02),\n",
    "    \"asset6\": np.sqrt(14.46*1e-02),\n",
    "    \"asset7\": np.sqrt(18.99*1e-02),\n",
    "    \"asset8\": 0,\n",
    "}"
   ]
  },
  {
   "cell_type": "code",
   "execution_count": 4,
   "metadata": {},
   "outputs": [],
   "source": [
    "# 各リスク許容度RTごとのポートフォリオのボラティリティと期待リターンとアロケーション\n",
    "weights = pd.DataFrame()\n",
    "weights[\"RT\"] = np.arange(0, 10, 1)\n",
    "weights[\"Vol\"] = [0, 0.0243, 0.0326, 0.0431, 0.0586, 0.0735, 0.0891, 0.1076, 0.1199, 0.1291]\n",
    "weights[\"E[r]\"] = [0.0001, 0.0165, 0.0214, 0.0274, 0.0335, 0.039, 0.0439, 0.0491, 0.053, 0.0556]\n",
    "weights[\"asset0\"] = [0, 0.2, 0.26, 0.3, 0.23, 0.18, 0.13, 0.07, 0.03, 0]\n",
    "weights[\"asset1\"] = [0, 0.06, 0.09, 0.1, 0.13, 0.16, 0.18, 0.21, 0.23, 0.24]\n",
    "weights[\"asset2\"] = [0, 0.14, 0.18, 0.23, 0.22, 0.2, 0.19, 0.16, 0.15, 0.11]\n",
    "weights[\"asset3\"] = [0, 0.16, 0.2, 0.24, 0.19, 0.14, 0.09, 0.04, 0, 0]\n",
    "weights[\"asset4\"] = [0, 0.02, 0.02, 0.03, 0.08, 0.12, 0.17, 0.22, 0.25, 0.29]\n",
    "weights[\"asset5\"] = [0, 0, 0, 0, 0, 0, 0.01, 0.04, 0.05, 0.05]\n",
    "weights[\"asset6\"] = [0, 0.04, 0.06, 0.08, 0.1, 0.12, 0.12, 0.12, 0.13, 0.13]\n",
    "weights[\"asset7\"] = [0, 0, 0, 0.02, 0.05, 0.08, 0.11, 0.14, 0.16, 0.18]\n",
    "weights[\"asset8\"] = [1, 0.38, 0.19, 0, 0, 0, 0, 0, 0, 0]"
   ]
  },
  {
   "cell_type": "code",
   "execution_count": 5,
   "metadata": {},
   "outputs": [],
   "source": [
    "# ---- Simulation helpers ----\n",
    "def annual_to_period_params(mu_a: float, sig_a: float, periods_per_year: int, model: str = \"gaussian\"):\n",
    "    P = periods_per_year\n",
    "    if model == \"gaussian\":\n",
    "        mu_p = mu_a / P\n",
    "        sig_p = sig_a / np.sqrt(P)\n",
    "        return mu_p, sig_p\n",
    "    elif model == \"gbm\":\n",
    "        mu_log_p = np.log(1.0 + mu_a) / P\n",
    "        sig_log_p = sig_a / np.sqrt(P)\n",
    "        return mu_log_p, sig_log_p\n",
    "    else:\n",
    "        raise ValueError(\"model must be 'gaussian' or 'gbm'\")\n",
    "\n",
    "def simulate_returns(mu_dict, sig_dict, n_periods=120, freq=\"M\", model=\"gaussian\", corr=None, seed=42):\n",
    "    rng = np.random.default_rng(seed)\n",
    "    assets = list(mu_dict.keys())\n",
    "    n = len(assets)\n",
    "    if freq == \"M\":\n",
    "        P = 12\n",
    "    elif freq == \"W\":\n",
    "        P = 52\n",
    "    elif freq == \"D\":\n",
    "        P = 252\n",
    "    else:\n",
    "        raise ValueError(\"freq must be one of 'M', 'W', 'D'\")\n",
    "\n",
    "    if corr is None:\n",
    "        R = np.eye(n)\n",
    "    else:\n",
    "        R = corr.reindex(index=assets, columns=assets).to_numpy()\n",
    "\n",
    "    if model == \"gaussian\":\n",
    "        mu_p = np.array([annual_to_period_params(mu_dict[a], sig_dict[a], P, \"gaussian\")[0] for a in assets])\n",
    "        sig_p = np.array([annual_to_period_params(mu_dict[a], sig_dict[a], P, \"gaussian\")[1] for a in assets])\n",
    "        D = np.diag(sig_p)\n",
    "        cov = D @ R @ D\n",
    "        shocks = rng.multivariate_normal(mean=np.zeros(n), cov=cov, size=n_periods)\n",
    "        rets = shocks + mu_p\n",
    "    else:\n",
    "        mu_log_p = np.array([annual_to_period_params(mu_dict[a], sig_dict[a], P, \"gbm\")[0] for a in assets])\n",
    "        sig_log_p = np.array([annual_to_period_params(mu_dict[a], sig_dict[a], P, \"gbm\")[1] for a in assets])\n",
    "        D = np.diag(sig_log_p)\n",
    "        cov_log = D @ R @ D\n",
    "        eps = rng.multivariate_normal(mean=np.zeros(n), cov=cov_log, size=n_periods)\n",
    "        rets = np.exp(mu_log_p + eps) - 1.0\n",
    "\n",
    "    idx = pd.date_range(start=\"2005-01-31\", periods=n_periods, freq=freq)\n",
    "    df = pd.DataFrame(rets, index=idx, columns=assets)\n",
    "    return df\n",
    "\n",
    "# ---- Run a default simulation (monthly, 10 years = 120 periods) ----\n",
    "df_returns = simulate_returns(mu_assets, sig_assets, n_periods=120, freq=\"M\", model=\"gaussian\", corr=None, seed=123)"
   ]
  },
  {
   "cell_type": "code",
   "execution_count": 6,
   "metadata": {},
   "outputs": [],
   "source": [
    "# ブートストラップ法でリサンプリング\n",
    "def bootstrap(rets, n_steps):\n",
    "    return rets.sample(n_steps, replace=True).values"
   ]
  },
  {
   "cell_type": "code",
   "execution_count": 49,
   "metadata": {},
   "outputs": [],
   "source": [
    "class GlidePathPortfolio:\n",
    "    def __init__(self, weights):\n",
    "        self.weights = weights.iloc[:, 3:].values\n",
    "        self.sigma = weights.iloc[:, 1].values\n",
    "        self.mu = weights.iloc[:, 2].values\n",
    "        self.dt = 1/12\n",
    "        self.k = -0.842\n",
    "\n",
    "    def get_scenario(self, rt, init_val, contri, withdr):\n",
    "        except_ret = (self.mu[rt] - 0.5 * np.power(self.sigma[rt], 2)) * self.dt\n",
    "        val = init_val * np.exp(except_ret)\n",
    "        val += contri\n",
    "        val -= withdr\n",
    "        return val\n",
    "    \n",
    "    def run(self, rets, init_rt, init_val, contribution, withdrawal, const):\n",
    "        n = rets.shape[0] + 1\n",
    "        m = rets.shape[1]\n",
    "        current_idx = 0\n",
    "        end_idx = n - 1\n",
    "\n",
    "        rt = init_rt\n",
    "        contributions = contribution * np.ones(n)\n",
    "        withdrawals = withdrawal * np.ones(n)\n",
    "        total_withdrawal = 0\n",
    "\n",
    "        S = np.zeros(n)\n",
    "        S[current_idx] = init_val\n",
    "        w = np.zeros((n, m))\n",
    "        w[current_idx] = self.weights[rt]\n",
    "        x = np.zeros((n, m))\n",
    "        x[current_idx] = self.weights[rt] * (init_val + contributions[current_idx])\n",
    "        scenario = np.zeros(n)\n",
    "        scenario[current_idx] = init_val\n",
    "        record_withdrawals = np.zeros(n)\n",
    "        record_withdrawals[current_idx] = 0\n",
    "        record_rt = np.zeros(n)\n",
    "        record_rt[current_idx] = rt\n",
    "        while True:\n",
    "            current_idx += 1\n",
    "            withdrawal_const = 1 if const else (S[current_idx-1] / scenario[current_idx-1] if scenario[current_idx-1] != 0 else 1.0)\n",
    "            scenario[current_idx] = self.get_scenario(rt, scenario[current_idx-1], contributions[current_idx-1], withdrawals[current_idx-1])\n",
    "            S[current_idx] = np.dot(1 + rets[current_idx-1], x[current_idx-1])\n",
    "            S[current_idx] += contributions[current_idx]\n",
    "            current_withdrawal = (withdrawals[current_idx] * withdrawal_const) if S[current_idx] >= (withdrawals[current_idx] * withdrawal_const) else S[current_idx]\n",
    "            S[current_idx] -= current_withdrawal\n",
    "            total_withdrawal -= current_withdrawal\n",
    "            record_withdrawals[current_idx] = current_withdrawal\n",
    "\n",
    "            if np.abs(np.sum(w[current_idx-1] - self.weights[rt])) > 0:\n",
    "                x[current_idx] = S[current_idx] * self.weights[rt]\n",
    "            else:\n",
    "                x[current_idx] = x[current_idx-1] * (1 + rets[current_idx-1])\n",
    "                x[current_idx] += (contributions[current_idx] * self.weights[rt])\n",
    "                x_withdrawal = (withdrawals[current_idx]* self.weights[rt]) * withdrawal_const\n",
    "                x_withdrawal = x_withdrawal if np.sum(x[current_idx]) >= np.sum(x_withdrawal) else x[current_idx]\n",
    "                x[current_idx] -= x_withdrawal\n",
    "            \n",
    "            if S[current_idx] > 0:\n",
    "                w[current_idx] = x[current_idx] / S[current_idx]\n",
    "            else:\n",
    "                w[current_idx] = 0\n",
    "\n",
    "            X1 = total_withdrawal + scenario[current_idx-1] * np.exp(\n",
    "                (self.mu[rt] - 0.5 * np.power(self.sigma[rt], 2)) * self.dt + self.sigma[rt] * np.sqrt(self.dt) * self.k\n",
    "            )\n",
    "            X2 = (total_withdrawal + scenario[current_idx-1]) * np.exp(\n",
    "                (self.mu[init_rt] - 0.5 * np.power(self.sigma[init_rt], 2)) * self.dt + self.sigma[init_rt] * np.sqrt(self.dt) * self.k\n",
    "            )\n",
    "            rt = rt if X1 >= X2 else np.maximum(rt - 1, 0)\n",
    "            record_rt[current_idx] = rt\n",
    "            if current_idx == end_idx:\n",
    "                break\n",
    "            \n",
    "        self.scenario = scenario\n",
    "        self.record_withdrawals = record_withdrawals\n",
    "        self.total_withdrawal = total_withdrawal\n",
    "        self.record_rt = record_rt\n",
    "        return S, x, w"
   ]
  },
  {
   "cell_type": "code",
   "execution_count": 50,
   "metadata": {},
   "outputs": [],
   "source": [
    "INIT_VAL = 100\n",
    "WITHDRAWAL_RATE = 0.03 / 12 # per month\n",
    "RT = 4\n",
    "N_STEPS = 12 * 35 # month\n",
    "N_PATHS = 10\n",
    "AGE = np.arange(65, 100+1/12, 1/12)\n",
    "\n",
    "rets = bootstrap(df_returns, n_steps=N_STEPS)"
   ]
  },
  {
   "cell_type": "code",
   "execution_count": 51,
   "metadata": {},
   "outputs": [],
   "source": [
    "model = GlidePathPortfolio(weights)"
   ]
  },
  {
   "cell_type": "code",
   "execution_count": 52,
   "metadata": {},
   "outputs": [],
   "source": [
    "S, _, _ = model.run(\n",
    "    rets=rets,\n",
    "    init_rt=RT,\n",
    "    init_val=INIT_VAL,\n",
    "    contribution=0,\n",
    "    withdrawal=WITHDRAWAL_RATE*INIT_VAL,\n",
    "    const=False\n",
    ")"
   ]
  },
  {
   "cell_type": "code",
   "execution_count": 53,
   "metadata": {},
   "outputs": [
    {
     "data": {
      "image/png": "[encoded data removed]",
      "text/plain": [
       "<Figure size 640x480 with 1 Axes>"
      ]
     },
     "metadata": {},
     "output_type": "display_data"
    }
   ],
   "source": [
    "plt.plot(S)\n",
    "plt.plot(model.scenario)\n",
    "plt.show()"
   ]
  },
  {
   "cell_type": "code",
   "execution_count": 54,
   "metadata": {},
   "outputs": [
    {
     "data": {
      "image/png": "[encoded data removed]",
      "text/plain": [
       "<Figure size 640x480 with 1 Axes>"
      ]
     },
     "metadata": {},
     "output_type": "display_data"
    }
   ],
   "source": [
    "\n",
    "plt.plot(model.record_withdrawals)\n",
    "plt.show()"
   ]
  },
  {
   "cell_type": "code",
   "execution_count": 55,
   "metadata": {},
   "outputs": [
    {
     "data": {
      "text/plain": [
       "array([4., 3., 3., 3., 3., 3., 3., 3., 3., 3., 3., 3., 3., 3., 3., 3., 3.,\n",
       "       3., 3., 3., 3., 3., 3., 3., 3., 3., 3., 3., 3., 3., 3., 3., 3., 3.,\n",
       "       3., 3., 3., 3., 3., 3., 3., 3., 3., 3., 3., 3., 3., 3., 3., 3., 3.,\n",
       "       3., 3., 3., 3., 3., 3., 3., 3., 3., 3., 3., 3., 3., 3., 3., 3., 3.,\n",
       "       3., 3., 3., 3., 3., 3., 3., 3., 3., 3., 3., 3., 2., 2., 2., 2., 2.,\n",
       "       2., 2., 2., 2., 2., 2., 2., 2., 2., 2., 2., 2., 2., 2., 2., 2., 2.,\n",
       "       2., 2., 2., 2., 2., 2., 2., 1., 1., 1., 1., 1., 1., 1., 1., 1., 1.,\n",
       "       1., 1., 1., 1., 1., 1., 1., 1., 1., 1., 1., 0., 0., 0., 0., 0., 0.,\n",
       "       0., 0., 0., 0., 0., 0., 0., 0., 0., 0., 0., 0., 0., 0., 0., 0., 0.,\n",
       "       0., 0., 0., 0., 0., 0., 0., 0., 0., 0., 0., 0., 0., 0., 0., 0., 0.,\n",
       "       0., 0., 0., 0., 0., 0., 0., 0., 0., 0., 0., 0., 0., 0., 0., 0., 0.,\n",
       "       0., 0., 0., 0., 0., 0., 0., 0., 0., 0., 0., 0., 0., 0., 0., 0., 0.,\n",
       "       0., 0., 0., 0., 0., 0., 0., 0., 0., 0., 0., 0., 0., 0., 0., 0., 0.,\n",
       "       0., 0., 0., 0., 0., 0., 0., 0., 0., 0., 0., 0., 0., 0., 0., 0., 0.,\n",
       "       0., 0., 0., 0., 0., 0., 0., 0., 0., 0., 0., 0., 0., 0., 0., 0., 0.,\n",
       "       0., 0., 0., 0., 0., 0., 0., 0., 0., 0., 0., 0., 0., 0., 0., 0., 0.,\n",
       "       0., 0., 0., 0., 0., 0., 0., 0., 0., 0., 0., 0., 0., 0., 0., 0., 0.,\n",
       "       0., 0., 0., 0., 0., 0., 0., 0., 0., 0., 0., 0., 0., 0., 0., 0., 0.,\n",
       "       0., 0., 0., 0., 0., 0., 0., 0., 0., 0., 0., 0., 0., 0., 0., 0., 0.,\n",
       "       0., 0., 0., 0., 0., 0., 0., 0., 0., 0., 0., 0., 0., 0., 0., 0., 0.,\n",
       "       0., 0., 0., 0., 0., 0., 0., 0., 0., 0., 0., 0., 0., 0., 0., 0., 0.,\n",
       "       0., 0., 0., 0., 0., 0., 0., 0., 0., 0., 0., 0., 0., 0., 0., 0., 0.,\n",
       "       0., 0., 0., 0., 0., 0., 0., 0., 0., 0., 0., 0., 0., 0., 0., 0., 0.,\n",
       "       0., 0., 0., 0., 0., 0., 0., 0., 0., 0., 0., 0., 0., 0., 0., 0., 0.,\n",
       "       0., 0., 0., 0., 0., 0., 0., 0., 0., 0., 0., 0., 0.])"
      ]
     },
     "execution_count": 55,
     "metadata": {},
     "output_type": "execute_result"
    }
   ],
   "source": [
    "model.record_rt"
   ]
  },
  {
   "cell_type": "code",
   "execution_count": null,
   "metadata": {},
   "outputs": [],
   "source": []
  },
  {
   "cell_type": "code",
   "execution_count": null,
   "metadata": {},
   "outputs": [],
   "source": []
  },
  {
   "cell_type": "code",
   "execution_count": null,
   "metadata": {},
   "outputs": [],
   "source": []
  }
 ],
 "metadata": {
  "kernelspec": {
   "display_name": "base",
   "language": "python",
   "name": "python3"
  },
  "language_info": {
   "codemirror_mode": {
    "name": "ipython",
    "version": 3
   },
   "file_extension": ".py",
   "mimetype": "text/x-python",
   "name": "python",
   "nbconvert_exporter": "python",
   "pygments_lexer": "ipython3",
   "version": "3.9.16"
  },
  "orig_nbformat": 4
 },
 "nbformat": 4,
 "nbformat_minor": 2
}
